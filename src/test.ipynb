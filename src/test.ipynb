{
 "cells": [
  {
   "cell_type": "code",
   "execution_count": 1,
   "metadata": {},
   "outputs": [],
   "source": [
    "import utils\n",
    "import torch\n"
   ]
  },
  {
   "cell_type": "code",
   "execution_count": 2,
   "metadata": {},
   "outputs": [
    {
     "name": "stdout",
     "output_type": "stream",
     "text": [
      "AAa\n"
     ]
    },
    {
     "name": "stderr",
     "output_type": "stream",
     "text": [
      "100%|██████████| 398/398 [01:27<00:00,  4.54it/s]\n"
     ]
    },
    {
     "name": "stdout",
     "output_type": "stream",
     "text": [
      "50880\n",
      "[314 312]\n"
     ]
    }
   ],
   "source": [
    "blue_path = \"./data/mall107_re_pb_10-18-2021_670_E.tif\"\n",
    "bright_path = \"./data/mall107_re_pb_10-18-2021_670_BF.tif\"\n",
    "batch_size = 64\n",
    "paddig = 7\n",
    "stride = 2\n",
    "winsize = 10\n",
    "top_left = [337,568]\n",
    "bottom_right = [651,880]\n",
    "\n",
    "model = torch.load(\"models/mt{t}\".format(t=0),map_location=torch.device(\"cpu\"))\n",
    "model.eval()\n",
    "droplet_num, predicted_map, predicted_heatmap = utils.binary_droplet_detection(\n",
    "        blue_path,\n",
    "        bright_path,\n",
    "        64,\n",
    "        7,\n",
    "        2,\n",
    "        10,\n",
    "        top_left,\n",
    "        bottom_right,\n",
    "        [0,0],\n",
    "        threshold=0.7,\n",
    "        erosion_iter=1,\n",
    "        model=model,\n",
    "        device=torch.device(\"cuda\"),\n",
    "        verbose=True,\n",
    "    )"
   ]
  },
  {
   "cell_type": "code",
   "execution_count": 4,
   "metadata": {},
   "outputs": [
    {
     "data": {
      "image/png": "[encoded data removed]",
      "text/plain": [
       "<Figure size 432x288 with 1 Axes>"
      ]
     },
     "metadata": {
      "needs_background": "light"
     },
     "output_type": "display_data"
    }
   ],
   "source": [
    "from matplotlib import pyplot as plt\n",
    "plt.imshow(predicted_heatmap, interpolation='nearest')\n",
    "plt.show()"
   ]
  },
  {
   "cell_type": "code",
   "execution_count": null,
   "metadata": {},
   "outputs": [],
   "source": []
  }
 ],
 "metadata": {
  "interpreter": {
   "hash": "e311f2532c8971b43ddb8950409ab6253090638d2ff7f23e6b520da0759eecf2"
  },
  "kernelspec": {
   "display_name": "Python 3.8.12 64-bit ('bdropletapp': conda)",
   "language": "python",
   "name": "python3"
  },
  "language_info": {
   "codemirror_mode": {
    "name": "ipython",
    "version": 3
   },
   "file_extension": ".py",
   "mimetype": "text/x-python",
   "name": "python",
   "nbconvert_exporter": "python",
   "pygments_lexer": "ipython3",
   "version": "3.8.12"
  },
  "orig_nbformat": 4
 },
 "nbformat": 4,
 "nbformat_minor": 2
}
